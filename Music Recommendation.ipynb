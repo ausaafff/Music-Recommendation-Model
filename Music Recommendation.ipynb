{
 "cells": [
  {
   "cell_type": "code",
   "execution_count": 1,
   "id": "c3a2d67c-26d1-4902-bbf5-c4528a351c45",
   "metadata": {},
   "outputs": [],
   "source": [
    "import pandas as pd"
   ]
  },
  {
   "cell_type": "code",
   "execution_count": 2,
   "id": "86d57b61-325b-44af-ac80-6fd2171f2080",
   "metadata": {},
   "outputs": [],
   "source": [
    "df = pd.read_csv(r\"D:\\Ausaaf\\ALLIMPORTS\\spotify_millsongdata.csv\")"
   ]
  },
  {
   "cell_type": "code",
   "execution_count": 3,
   "id": "1eee556d-872d-45e1-bce0-c7d12efd388e",
   "metadata": {},
   "outputs": [
    {
     "data": {
      "text/html": [
       "<div>\n",
       "<style scoped>\n",
       "    .dataframe tbody tr th:only-of-type {\n",
       "        vertical-align: middle;\n",
       "    }\n",
       "\n",
       "    .dataframe tbody tr th {\n",
       "        vertical-align: top;\n",
       "    }\n",
       "\n",
       "    .dataframe thead th {\n",
       "        text-align: right;\n",
       "    }\n",
       "</style>\n",
       "<table border=\"1\" class=\"dataframe\">\n",
       "  <thead>\n",
       "    <tr style=\"text-align: right;\">\n",
       "      <th></th>\n",
       "      <th>artist</th>\n",
       "      <th>song</th>\n",
       "      <th>link</th>\n",
       "      <th>text</th>\n",
       "    </tr>\n",
       "  </thead>\n",
       "  <tbody>\n",
       "    <tr>\n",
       "      <th>0</th>\n",
       "      <td>ABBA</td>\n",
       "      <td>Ahe's My Kind Of Girl</td>\n",
       "      <td>/a/abba/ahes+my+kind+of+girl_20598417.html</td>\n",
       "      <td>Look at her face, it's a wonderful face  \\r\\nA...</td>\n",
       "    </tr>\n",
       "    <tr>\n",
       "      <th>1</th>\n",
       "      <td>ABBA</td>\n",
       "      <td>Andante, Andante</td>\n",
       "      <td>/a/abba/andante+andante_20002708.html</td>\n",
       "      <td>Take it easy with me, please  \\r\\nTouch me gen...</td>\n",
       "    </tr>\n",
       "    <tr>\n",
       "      <th>2</th>\n",
       "      <td>ABBA</td>\n",
       "      <td>As Good As New</td>\n",
       "      <td>/a/abba/as+good+as+new_20003033.html</td>\n",
       "      <td>I'll never know why I had to go  \\r\\nWhy I had...</td>\n",
       "    </tr>\n",
       "    <tr>\n",
       "      <th>3</th>\n",
       "      <td>ABBA</td>\n",
       "      <td>Bang</td>\n",
       "      <td>/a/abba/bang_20598415.html</td>\n",
       "      <td>Making somebody happy is a question of give an...</td>\n",
       "    </tr>\n",
       "    <tr>\n",
       "      <th>4</th>\n",
       "      <td>ABBA</td>\n",
       "      <td>Bang-A-Boomerang</td>\n",
       "      <td>/a/abba/bang+a+boomerang_20002668.html</td>\n",
       "      <td>Making somebody happy is a question of give an...</td>\n",
       "    </tr>\n",
       "  </tbody>\n",
       "</table>\n",
       "</div>"
      ],
      "text/plain": [
       "  artist                   song                                        link  \\\n",
       "0   ABBA  Ahe's My Kind Of Girl  /a/abba/ahes+my+kind+of+girl_20598417.html   \n",
       "1   ABBA       Andante, Andante       /a/abba/andante+andante_20002708.html   \n",
       "2   ABBA         As Good As New        /a/abba/as+good+as+new_20003033.html   \n",
       "3   ABBA                   Bang                  /a/abba/bang_20598415.html   \n",
       "4   ABBA       Bang-A-Boomerang      /a/abba/bang+a+boomerang_20002668.html   \n",
       "\n",
       "                                                text  \n",
       "0  Look at her face, it's a wonderful face  \\r\\nA...  \n",
       "1  Take it easy with me, please  \\r\\nTouch me gen...  \n",
       "2  I'll never know why I had to go  \\r\\nWhy I had...  \n",
       "3  Making somebody happy is a question of give an...  \n",
       "4  Making somebody happy is a question of give an...  "
      ]
     },
     "execution_count": 3,
     "metadata": {},
     "output_type": "execute_result"
    }
   ],
   "source": [
    "df.head()"
   ]
  },
  {
   "cell_type": "code",
   "execution_count": 4,
   "id": "08118e9b-1d38-4f37-bb8f-42c1abc4daaf",
   "metadata": {},
   "outputs": [
    {
     "data": {
      "text/html": [
       "<div>\n",
       "<style scoped>\n",
       "    .dataframe tbody tr th:only-of-type {\n",
       "        vertical-align: middle;\n",
       "    }\n",
       "\n",
       "    .dataframe tbody tr th {\n",
       "        vertical-align: top;\n",
       "    }\n",
       "\n",
       "    .dataframe thead th {\n",
       "        text-align: right;\n",
       "    }\n",
       "</style>\n",
       "<table border=\"1\" class=\"dataframe\">\n",
       "  <thead>\n",
       "    <tr style=\"text-align: right;\">\n",
       "      <th></th>\n",
       "      <th>artist</th>\n",
       "      <th>song</th>\n",
       "      <th>link</th>\n",
       "      <th>text</th>\n",
       "    </tr>\n",
       "  </thead>\n",
       "  <tbody>\n",
       "    <tr>\n",
       "      <th>57645</th>\n",
       "      <td>Ziggy Marley</td>\n",
       "      <td>Good Old Days</td>\n",
       "      <td>/z/ziggy+marley/good+old+days_10198588.html</td>\n",
       "      <td>Irie days come on play  \\r\\nLet the angels fly...</td>\n",
       "    </tr>\n",
       "    <tr>\n",
       "      <th>57646</th>\n",
       "      <td>Ziggy Marley</td>\n",
       "      <td>Hand To Mouth</td>\n",
       "      <td>/z/ziggy+marley/hand+to+mouth_20531167.html</td>\n",
       "      <td>Power to the workers  \\r\\nMore power  \\r\\nPowe...</td>\n",
       "    </tr>\n",
       "    <tr>\n",
       "      <th>57647</th>\n",
       "      <td>Zwan</td>\n",
       "      <td>Come With Me</td>\n",
       "      <td>/z/zwan/come+with+me_20148981.html</td>\n",
       "      <td>all you need  \\r\\nis something i'll believe  \\...</td>\n",
       "    </tr>\n",
       "    <tr>\n",
       "      <th>57648</th>\n",
       "      <td>Zwan</td>\n",
       "      <td>Desire</td>\n",
       "      <td>/z/zwan/desire_20148986.html</td>\n",
       "      <td>northern star  \\r\\nam i frightened  \\r\\nwhere ...</td>\n",
       "    </tr>\n",
       "    <tr>\n",
       "      <th>57649</th>\n",
       "      <td>Zwan</td>\n",
       "      <td>Heartsong</td>\n",
       "      <td>/z/zwan/heartsong_20148991.html</td>\n",
       "      <td>come in  \\r\\nmake yourself at home  \\r\\ni'm a ...</td>\n",
       "    </tr>\n",
       "  </tbody>\n",
       "</table>\n",
       "</div>"
      ],
      "text/plain": [
       "             artist           song  \\\n",
       "57645  Ziggy Marley  Good Old Days   \n",
       "57646  Ziggy Marley  Hand To Mouth   \n",
       "57647          Zwan   Come With Me   \n",
       "57648          Zwan         Desire   \n",
       "57649          Zwan      Heartsong   \n",
       "\n",
       "                                              link  \\\n",
       "57645  /z/ziggy+marley/good+old+days_10198588.html   \n",
       "57646  /z/ziggy+marley/hand+to+mouth_20531167.html   \n",
       "57647           /z/zwan/come+with+me_20148981.html   \n",
       "57648                 /z/zwan/desire_20148986.html   \n",
       "57649              /z/zwan/heartsong_20148991.html   \n",
       "\n",
       "                                                    text  \n",
       "57645  Irie days come on play  \\r\\nLet the angels fly...  \n",
       "57646  Power to the workers  \\r\\nMore power  \\r\\nPowe...  \n",
       "57647  all you need  \\r\\nis something i'll believe  \\...  \n",
       "57648  northern star  \\r\\nam i frightened  \\r\\nwhere ...  \n",
       "57649  come in  \\r\\nmake yourself at home  \\r\\ni'm a ...  "
      ]
     },
     "execution_count": 4,
     "metadata": {},
     "output_type": "execute_result"
    }
   ],
   "source": [
    "df.tail()"
   ]
  },
  {
   "cell_type": "code",
   "execution_count": 5,
   "id": "9f98a1a7-0fdb-4182-bca9-94ea2a7412c3",
   "metadata": {},
   "outputs": [
    {
     "name": "stdout",
     "output_type": "stream",
     "text": [
      "<class 'pandas.core.frame.DataFrame'>\n",
      "RangeIndex: 57650 entries, 0 to 57649\n",
      "Data columns (total 4 columns):\n",
      " #   Column  Non-Null Count  Dtype \n",
      "---  ------  --------------  ----- \n",
      " 0   artist  57650 non-null  object\n",
      " 1   song    57650 non-null  object\n",
      " 2   link    57650 non-null  object\n",
      " 3   text    57650 non-null  object\n",
      "dtypes: object(4)\n",
      "memory usage: 1.8+ MB\n"
     ]
    }
   ],
   "source": [
    "df.info()"
   ]
  },
  {
   "cell_type": "code",
   "execution_count": 6,
   "id": "1b2bceb1-8be0-463b-88aa-c88c044528ae",
   "metadata": {},
   "outputs": [],
   "source": [
    "df =df.sample(30000).drop('link', axis=1).reset_index(drop=True)"
   ]
  },
  {
   "cell_type": "code",
   "execution_count": 7,
   "id": "78ca3ff1-bb4b-4069-8900-c69871029492",
   "metadata": {},
   "outputs": [
    {
     "data": {
      "text/html": [
       "<div>\n",
       "<style scoped>\n",
       "    .dataframe tbody tr th:only-of-type {\n",
       "        vertical-align: middle;\n",
       "    }\n",
       "\n",
       "    .dataframe tbody tr th {\n",
       "        vertical-align: top;\n",
       "    }\n",
       "\n",
       "    .dataframe thead th {\n",
       "        text-align: right;\n",
       "    }\n",
       "</style>\n",
       "<table border=\"1\" class=\"dataframe\">\n",
       "  <thead>\n",
       "    <tr style=\"text-align: right;\">\n",
       "      <th></th>\n",
       "      <th>artist</th>\n",
       "      <th>song</th>\n",
       "      <th>text</th>\n",
       "    </tr>\n",
       "  </thead>\n",
       "  <tbody>\n",
       "    <tr>\n",
       "      <th>0</th>\n",
       "      <td>Venom</td>\n",
       "      <td>Shadow King</td>\n",
       "      <td>The world we live in is silent lucid liquid ch...</td>\n",
       "    </tr>\n",
       "    <tr>\n",
       "      <th>1</th>\n",
       "      <td>Zayn Malik</td>\n",
       "      <td>Blue</td>\n",
       "      <td>[Verse 1]  \\r\\nIn the clouds where the angels ...</td>\n",
       "    </tr>\n",
       "    <tr>\n",
       "      <th>2</th>\n",
       "      <td>Elvis Presley</td>\n",
       "      <td>Hearts Of Stone</td>\n",
       "      <td>Hearts made of stone will never brake  \\r\\n'Ca...</td>\n",
       "    </tr>\n",
       "    <tr>\n",
       "      <th>3</th>\n",
       "      <td>Ingrid Michaelson</td>\n",
       "      <td>One Night Town</td>\n",
       "      <td>Living up while we're going down  \\r\\nEverythi...</td>\n",
       "    </tr>\n",
       "    <tr>\n",
       "      <th>4</th>\n",
       "      <td>Allman Brothers Band</td>\n",
       "      <td>Spoonful</td>\n",
       "      <td>By Willie Dickson  \\r\\n  \\r\\nCould be spoonful...</td>\n",
       "    </tr>\n",
       "    <tr>\n",
       "      <th>...</th>\n",
       "      <td>...</td>\n",
       "      <td>...</td>\n",
       "      <td>...</td>\n",
       "    </tr>\n",
       "    <tr>\n",
       "      <th>29995</th>\n",
       "      <td>Pitbull</td>\n",
       "      <td>Wild Wild Love</td>\n",
       "      <td>This wild wild love of ours  \\r\\nIt can't be t...</td>\n",
       "    </tr>\n",
       "    <tr>\n",
       "      <th>29996</th>\n",
       "      <td>Olly Murs</td>\n",
       "      <td>Heart On My Sleeve</td>\n",
       "      <td>You think you've heard this before  \\r\\nI'll t...</td>\n",
       "    </tr>\n",
       "    <tr>\n",
       "      <th>29997</th>\n",
       "      <td>Mary Black</td>\n",
       "      <td>Farewell Farewell</td>\n",
       "      <td>Farewell, farewell to you who would hear  \\r\\n...</td>\n",
       "    </tr>\n",
       "    <tr>\n",
       "      <th>29998</th>\n",
       "      <td>Hillsong United</td>\n",
       "      <td>All About You</td>\n",
       "      <td>Hear our praises,  \\r\\nHear Your people sing  ...</td>\n",
       "    </tr>\n",
       "    <tr>\n",
       "      <th>29999</th>\n",
       "      <td>Jimi Hendrix</td>\n",
       "      <td>Little Miss Strange</td>\n",
       "      <td>No one knows where she comes from  \\r\\nMaybe s...</td>\n",
       "    </tr>\n",
       "  </tbody>\n",
       "</table>\n",
       "<p>30000 rows × 3 columns</p>\n",
       "</div>"
      ],
      "text/plain": [
       "                     artist                 song  \\\n",
       "0                     Venom          Shadow King   \n",
       "1                Zayn Malik                 Blue   \n",
       "2             Elvis Presley      Hearts Of Stone   \n",
       "3         Ingrid Michaelson       One Night Town   \n",
       "4      Allman Brothers Band             Spoonful   \n",
       "...                     ...                  ...   \n",
       "29995               Pitbull       Wild Wild Love   \n",
       "29996             Olly Murs   Heart On My Sleeve   \n",
       "29997            Mary Black    Farewell Farewell   \n",
       "29998       Hillsong United        All About You   \n",
       "29999          Jimi Hendrix  Little Miss Strange   \n",
       "\n",
       "                                                    text  \n",
       "0      The world we live in is silent lucid liquid ch...  \n",
       "1      [Verse 1]  \\r\\nIn the clouds where the angels ...  \n",
       "2      Hearts made of stone will never brake  \\r\\n'Ca...  \n",
       "3      Living up while we're going down  \\r\\nEverythi...  \n",
       "4      By Willie Dickson  \\r\\n  \\r\\nCould be spoonful...  \n",
       "...                                                  ...  \n",
       "29995  This wild wild love of ours  \\r\\nIt can't be t...  \n",
       "29996  You think you've heard this before  \\r\\nI'll t...  \n",
       "29997  Farewell, farewell to you who would hear  \\r\\n...  \n",
       "29998  Hear our praises,  \\r\\nHear Your people sing  ...  \n",
       "29999  No one knows where she comes from  \\r\\nMaybe s...  \n",
       "\n",
       "[30000 rows x 3 columns]"
      ]
     },
     "execution_count": 7,
     "metadata": {},
     "output_type": "execute_result"
    }
   ],
   "source": [
    "df"
   ]
  },
  {
   "cell_type": "code",
   "execution_count": 8,
   "id": "4146ce6c-0643-44b1-9383-4af7c220569c",
   "metadata": {},
   "outputs": [
    {
     "data": {
      "text/plain": [
       "\"The world we live in is silent lucid liquid change  \\r\\nThe king appears well afraid aware in all his rage  \\r\\nHe seeks to tell in unseen terror about poer life and lust  \\r\\nThe rising power of Baphomet is all that he can trust ah  \\r\\nHell on earth sadistic birth hell on earth  \\r\\nGod bless all who sail in her this ship he built with fright  \\r\\nPleasant in his infamy it sails into the night ah  \\r\\nHell on earth sadistic birth hell on earth  \\r\\nReasoning decay decides to plague the nurtured home  \\r\\nRedesign Colombus Isle where only kings will roam  \\r\\nThe spirit lies in all we see and all that we can touch  \\r\\nHe found the place where gods reside destroyed into the ancient dust ah  \\r\\nHell on earth sadistic birth hell on earth  \\r\\nGod bless all who sail in her this ship he built with fright  \\r\\nPleasant in his infamy with cold and blistered sight ah  \\r\\nHell on earth sadistic birth hell on earth hell on earth  \\r\\nThe afterlife that mark the moons of distant silent stars  \\r\\nSo on the quest the king is served golden in his light  \\r\\nHell on earth sadistic birth hell on earth  \\r\\nRevealing yellowed manuscript in the shadow of the king  \\r\\nWritten here in pages old the secrets of this thing  \\r\\nImagination hanging by the lucid threads he claims  \\r\\nWhere all around damnations lie they're locked inside his fevered brain  \\r\\nHell on earth sadistic birth hell on earth  \\r\\nGod bless all who sail in her this ship he built with fright  \\r\\nPleasant in his infamy it sails into the night ah  \\r\\nHell on earth sadistic birth hell on earth hell on earth  \\r\\n  \\r\\n  \\r\\n\\r\\n\""
      ]
     },
     "execution_count": 8,
     "metadata": {},
     "output_type": "execute_result"
    }
   ],
   "source": [
    "df['text'][0]"
   ]
  },
  {
   "cell_type": "code",
   "execution_count": 9,
   "id": "d7956b9a-a772-4410-9b82-ff33000e4241",
   "metadata": {},
   "outputs": [],
   "source": [
    "df['text'] = df['text'].str.replace(r'\\r\\n', ' ', regex=True).str.lower()"
   ]
  },
  {
   "cell_type": "code",
   "execution_count": 10,
   "id": "6ff5fc84-c2d3-49ef-b795-518bf81cf42e",
   "metadata": {},
   "outputs": [
    {
     "data": {
      "text/plain": [
       "\"the world we live in is silent lucid liquid change   the king appears well afraid aware in all his rage   he seeks to tell in unseen terror about poer life and lust   the rising power of baphomet is all that he can trust ah   hell on earth sadistic birth hell on earth   god bless all who sail in her this ship he built with fright   pleasant in his infamy it sails into the night ah   hell on earth sadistic birth hell on earth   reasoning decay decides to plague the nurtured home   redesign colombus isle where only kings will roam   the spirit lies in all we see and all that we can touch   he found the place where gods reside destroyed into the ancient dust ah   hell on earth sadistic birth hell on earth   god bless all who sail in her this ship he built with fright   pleasant in his infamy with cold and blistered sight ah   hell on earth sadistic birth hell on earth hell on earth   the afterlife that mark the moons of distant silent stars   so on the quest the king is served golden in his light   hell on earth sadistic birth hell on earth   revealing yellowed manuscript in the shadow of the king   written here in pages old the secrets of this thing   imagination hanging by the lucid threads he claims   where all around damnations lie they're locked inside his fevered brain   hell on earth sadistic birth hell on earth   god bless all who sail in her this ship he built with fright   pleasant in his infamy it sails into the night ah   hell on earth sadistic birth hell on earth hell on earth          \""
      ]
     },
     "execution_count": 10,
     "metadata": {},
     "output_type": "execute_result"
    }
   ],
   "source": [
    "df['text'][0]"
   ]
  },
  {
   "cell_type": "code",
   "execution_count": 11,
   "id": "0c7da0e2-a2d0-4325-8c59-61dcc9433d78",
   "metadata": {},
   "outputs": [
    {
     "name": "stderr",
     "output_type": "stream",
     "text": [
      "[nltk_data] Downloading package punkt to\n",
      "[nltk_data]     C:\\Users\\Sneha\\AppData\\Roaming\\nltk_data...\n",
      "[nltk_data]   Package punkt is already up-to-date!\n"
     ]
    },
    {
     "data": {
      "text/plain": [
       "True"
      ]
     },
     "execution_count": 11,
     "metadata": {},
     "output_type": "execute_result"
    }
   ],
   "source": [
    "import nltk\n",
    "from nltk.stem import PorterStemmer\n",
    "from nltk.tokenize import word_tokenize\n",
    "nltk.download('punkt')"
   ]
  },
  {
   "cell_type": "code",
   "execution_count": 12,
   "id": "b6caf474-526c-4b28-9b4b-9d62351edbed",
   "metadata": {},
   "outputs": [],
   "source": [
    "stemmer = PorterStemmer()"
   ]
  },
  {
   "cell_type": "code",
   "execution_count": 13,
   "id": "356fbb8b-3017-418b-8913-acfc65c22933",
   "metadata": {},
   "outputs": [],
   "source": [
    "def tokenize_and_stem(text):\n",
    "    tokens = word_tokenize(text)  \n",
    "    stemmed_tokens = [stemmer.stem(word) for word in tokens]\n",
    "    return \" \".join(stemmed_tokens) "
   ]
  },
  {
   "cell_type": "code",
   "execution_count": 14,
   "id": "6f05bc68-ae38-42ca-9a35-9b271f864c0d",
   "metadata": {},
   "outputs": [
    {
     "name": "stdout",
     "output_type": "stream",
     "text": [
      "you are beauti , beauti\n"
     ]
    }
   ],
   "source": [
    "print(tokenize_and_stem('you are beautiful,beauty'))"
   ]
  },
  {
   "cell_type": "code",
   "execution_count": 15,
   "id": "21578480-00a9-4f2f-946c-28a5774ef061",
   "metadata": {},
   "outputs": [
    {
     "data": {
      "text/plain": [
       "0        the world we live in is silent lucid liquid ch...\n",
       "1        [ vers 1 ] in the cloud where the angel sing i...\n",
       "2        heart made of stone will never brake 'caus the...\n",
       "3        live up while we 're go down everyth that we d...\n",
       "4        by willi dickson could be spoon of diamond cou...\n",
       "                               ...                        \n",
       "29995    thi wild wild love of our it ca n't be tame , ...\n",
       "29996    you think you 've heard thi befor i 'll tri to...\n",
       "29997    farewel , farewel to you who would hear you lo...\n",
       "29998    hear our prais , hear your peopl sing hear our...\n",
       "29999    no one know where she come from mayb she 's a ...\n",
       "Name: text, Length: 30000, dtype: object"
      ]
     },
     "execution_count": 15,
     "metadata": {},
     "output_type": "execute_result"
    }
   ],
   "source": [
    "df['text'].apply(lambda x: tokenize_and_stem(x))"
   ]
  },
  {
   "cell_type": "code",
   "execution_count": 16,
   "id": "f45e96c0-6285-410d-af76-740b13a3ff61",
   "metadata": {},
   "outputs": [
    {
     "data": {
      "text/plain": [
       "\"the world we live in is silent lucid liquid change   the king appears well afraid aware in all his rage   he seeks to tell in unseen terror about poer life and lust   the rising power of baphomet is all that he can trust ah   hell on earth sadistic birth hell on earth   god bless all who sail in her this ship he built with fright   pleasant in his infamy it sails into the night ah   hell on earth sadistic birth hell on earth   reasoning decay decides to plague the nurtured home   redesign colombus isle where only kings will roam   the spirit lies in all we see and all that we can touch   he found the place where gods reside destroyed into the ancient dust ah   hell on earth sadistic birth hell on earth   god bless all who sail in her this ship he built with fright   pleasant in his infamy with cold and blistered sight ah   hell on earth sadistic birth hell on earth hell on earth   the afterlife that mark the moons of distant silent stars   so on the quest the king is served golden in his light   hell on earth sadistic birth hell on earth   revealing yellowed manuscript in the shadow of the king   written here in pages old the secrets of this thing   imagination hanging by the lucid threads he claims   where all around damnations lie they're locked inside his fevered brain   hell on earth sadistic birth hell on earth   god bless all who sail in her this ship he built with fright   pleasant in his infamy it sails into the night ah   hell on earth sadistic birth hell on earth hell on earth          \""
      ]
     },
     "execution_count": 16,
     "metadata": {},
     "output_type": "execute_result"
    }
   ],
   "source": [
    "df['text'][0]"
   ]
  },
  {
   "cell_type": "code",
   "execution_count": 17,
   "id": "0f94995a-1054-4339-b5e8-48525b654ab8",
   "metadata": {},
   "outputs": [],
   "source": [
    "from sklearn.feature_extraction.text import TfidfVectorizer\n",
    "from sklearn.metrics.pairwise import cosine_similarity"
   ]
  },
  {
   "cell_type": "code",
   "execution_count": 18,
   "id": "f7235bca-2454-4bab-8329-0ca489052611",
   "metadata": {},
   "outputs": [],
   "source": [
    "tfidvector = TfidfVectorizer(analyzer='word',stop_words='english')\n",
    "matrix = tfidvector.fit_transform(df['text'])\n",
    "similarity = cosine_similarity(matrix)"
   ]
  },
  {
   "cell_type": "code",
   "execution_count": 19,
   "id": "74f2415e-a70a-41ba-9c11-89843b1d3438",
   "metadata": {},
   "outputs": [
    {
     "data": {
      "text/plain": [
       "array([1.        , 0.        , 0.        , ..., 0.00799175, 0.03315121,\n",
       "       0.00330793])"
      ]
     },
     "execution_count": 19,
     "metadata": {},
     "output_type": "execute_result"
    }
   ],
   "source": [
    "similarity[0]"
   ]
  },
  {
   "cell_type": "code",
   "execution_count": 20,
   "id": "d3543a63-ebd4-421f-a332-c2f7cc20b075",
   "metadata": {},
   "outputs": [],
   "source": [
    "def recommender(song_name):\n",
    "    idx = df[df['song']==song_name].index[0]\n",
    "    distance = sorted(list(enumerate(similarity[idx])),reverse=True, key=lambda x:x[1])\n",
    "    song=[]\n",
    "    for s_id in distance[1:5]:\n",
    "        song.append(df.iloc[s_id[0]].song)\n",
    "    return song"
   ]
  },
  {
   "cell_type": "code",
   "execution_count": 22,
   "id": "3700e8bb-4158-4d61-b87e-c4cdde162369",
   "metadata": {},
   "outputs": [
    {
     "data": {
      "text/plain": [
       "['Call Me', 'All You Need Is Love', 'Need Her Love', 'Hawkmoon 269']"
      ]
     },
     "execution_count": 22,
     "metadata": {},
     "output_type": "execute_result"
    }
   ],
   "source": [
    "recommender('Blue')"
   ]
  },
  {
   "cell_type": "code",
   "execution_count": null,
   "id": "2d031b4c-3a64-4dbf-8b78-3098f69c5ad4",
   "metadata": {},
   "outputs": [],
   "source": [
    "recommender('I Gotta Get Drunk')"
   ]
  },
  {
   "cell_type": "code",
   "execution_count": null,
   "id": "8bf4099c-9d8a-4435-b3dd-d07642d166ee",
   "metadata": {},
   "outputs": [],
   "source": [
    "df[df['song']=='Drunk']"
   ]
  },
  {
   "cell_type": "code",
   "execution_count": 23,
   "id": "f7091571-7add-4f44-a60d-94f0ca58b48f",
   "metadata": {},
   "outputs": [
    {
     "data": {
      "text/html": [
       "<div>\n",
       "<style scoped>\n",
       "    .dataframe tbody tr th:only-of-type {\n",
       "        vertical-align: middle;\n",
       "    }\n",
       "\n",
       "    .dataframe tbody tr th {\n",
       "        vertical-align: top;\n",
       "    }\n",
       "\n",
       "    .dataframe thead th {\n",
       "        text-align: right;\n",
       "    }\n",
       "</style>\n",
       "<table border=\"1\" class=\"dataframe\">\n",
       "  <thead>\n",
       "    <tr style=\"text-align: right;\">\n",
       "      <th></th>\n",
       "      <th>artist</th>\n",
       "      <th>song</th>\n",
       "      <th>text</th>\n",
       "    </tr>\n",
       "  </thead>\n",
       "  <tbody>\n",
       "    <tr>\n",
       "      <th>2142</th>\n",
       "      <td>Ed Sheeran</td>\n",
       "      <td>She</td>\n",
       "      <td>i paid all my dues   and she wanted to know   ...</td>\n",
       "    </tr>\n",
       "    <tr>\n",
       "      <th>2149</th>\n",
       "      <td>Ed Sheeran</td>\n",
       "      <td>A Team</td>\n",
       "      <td>white lips, pale face   breathing in snowflake...</td>\n",
       "    </tr>\n",
       "    <tr>\n",
       "      <th>2562</th>\n",
       "      <td>Ed Sheeran</td>\n",
       "      <td>The City</td>\n",
       "      <td>this city never sleeps   i hear the people wal...</td>\n",
       "    </tr>\n",
       "    <tr>\n",
       "      <th>3793</th>\n",
       "      <td>Ed Sheeran</td>\n",
       "      <td>Heaven</td>\n",
       "      <td>will you recognise me, in the flashing lights ...</td>\n",
       "    </tr>\n",
       "    <tr>\n",
       "      <th>4838</th>\n",
       "      <td>Ed Sheeran</td>\n",
       "      <td>These Dreams</td>\n",
       "      <td>i keep my hopes and dreams inside of you among...</td>\n",
       "    </tr>\n",
       "    <tr>\n",
       "      <th>7736</th>\n",
       "      <td>Ed Sheeran</td>\n",
       "      <td>Let It Out</td>\n",
       "      <td>you give me life like lots of oxygen   you tre...</td>\n",
       "    </tr>\n",
       "    <tr>\n",
       "      <th>9239</th>\n",
       "      <td>Ed Sheeran</td>\n",
       "      <td>Nina</td>\n",
       "      <td>i met you when i was a teen but then you were ...</td>\n",
       "    </tr>\n",
       "    <tr>\n",
       "      <th>9648</th>\n",
       "      <td>Ed Sheeran</td>\n",
       "      <td>Kiss Me</td>\n",
       "      <td>settle down with me   cover me up   cuddle me ...</td>\n",
       "    </tr>\n",
       "    <tr>\n",
       "      <th>10815</th>\n",
       "      <td>Ed Sheeran</td>\n",
       "      <td>Blind Faith</td>\n",
       "      <td>i am a man with a heavy heart,   and i dare no...</td>\n",
       "    </tr>\n",
       "    <tr>\n",
       "      <th>10819</th>\n",
       "      <td>Ed Sheeran</td>\n",
       "      <td>Cold Coffee</td>\n",
       "      <td>she's like cold coffee in the morning   i'm dr...</td>\n",
       "    </tr>\n",
       "    <tr>\n",
       "      <th>11665</th>\n",
       "      <td>Ed Sheeran</td>\n",
       "      <td>Autumn Leaves</td>\n",
       "      <td>another day another life   passes by just like...</td>\n",
       "    </tr>\n",
       "    <tr>\n",
       "      <th>14198</th>\n",
       "      <td>Ed Sheeran</td>\n",
       "      <td>Don't</td>\n",
       "      <td>ah lahmlahlah   ah lahmlahlah      [verse 1:] ...</td>\n",
       "    </tr>\n",
       "    <tr>\n",
       "      <th>16708</th>\n",
       "      <td>Ed Sheeran</td>\n",
       "      <td>You</td>\n",
       "      <td>these thoughts i have could be clear ones and ...</td>\n",
       "    </tr>\n",
       "    <tr>\n",
       "      <th>19608</th>\n",
       "      <td>Ed Sheeran</td>\n",
       "      <td>Thinking Out Loud</td>\n",
       "      <td>[verse 1]   when your legs don't work like the...</td>\n",
       "    </tr>\n",
       "    <tr>\n",
       "      <th>20682</th>\n",
       "      <td>Ed Sheeran</td>\n",
       "      <td>UNI</td>\n",
       "      <td>i found your hairband on my bedroom floor   th...</td>\n",
       "    </tr>\n",
       "    <tr>\n",
       "      <th>23424</th>\n",
       "      <td>Ed Sheeran</td>\n",
       "      <td>Wayfaring Stranger</td>\n",
       "      <td>i am a poor, wayfaring stranger   traveling th...</td>\n",
       "    </tr>\n",
       "    <tr>\n",
       "      <th>23891</th>\n",
       "      <td>Ed Sheeran</td>\n",
       "      <td>This</td>\n",
       "      <td>this is the start of something beautiful   thi...</td>\n",
       "    </tr>\n",
       "    <tr>\n",
       "      <th>24073</th>\n",
       "      <td>Ed Sheeran</td>\n",
       "      <td>Lego House</td>\n",
       "      <td>i'm gonna pick up the pieces   and build a leg...</td>\n",
       "    </tr>\n",
       "    <tr>\n",
       "      <th>25193</th>\n",
       "      <td>Ed Sheeran</td>\n",
       "      <td>Runaway</td>\n",
       "      <td>i've known it for a long time   daddy wakes up...</td>\n",
       "    </tr>\n",
       "    <tr>\n",
       "      <th>26520</th>\n",
       "      <td>Ed Sheeran</td>\n",
       "      <td>Be Like You</td>\n",
       "      <td>unhappy days that left us on the floor   and y...</td>\n",
       "    </tr>\n",
       "    <tr>\n",
       "      <th>26933</th>\n",
       "      <td>Ed Sheeran</td>\n",
       "      <td>Faces</td>\n",
       "      <td>faces change   but this place'll stay the same...</td>\n",
       "    </tr>\n",
       "    <tr>\n",
       "      <th>29373</th>\n",
       "      <td>Ed Sheeran</td>\n",
       "      <td>Firefly</td>\n",
       "      <td>i fell in love next to you   burning fires in ...</td>\n",
       "    </tr>\n",
       "  </tbody>\n",
       "</table>\n",
       "</div>"
      ],
      "text/plain": [
       "           artist                song  \\\n",
       "2142   Ed Sheeran                 She   \n",
       "2149   Ed Sheeran              A Team   \n",
       "2562   Ed Sheeran            The City   \n",
       "3793   Ed Sheeran              Heaven   \n",
       "4838   Ed Sheeran        These Dreams   \n",
       "7736   Ed Sheeran          Let It Out   \n",
       "9239   Ed Sheeran                Nina   \n",
       "9648   Ed Sheeran             Kiss Me   \n",
       "10815  Ed Sheeran         Blind Faith   \n",
       "10819  Ed Sheeran         Cold Coffee   \n",
       "11665  Ed Sheeran       Autumn Leaves   \n",
       "14198  Ed Sheeran               Don't   \n",
       "16708  Ed Sheeran                 You   \n",
       "19608  Ed Sheeran   Thinking Out Loud   \n",
       "20682  Ed Sheeran                 UNI   \n",
       "23424  Ed Sheeran  Wayfaring Stranger   \n",
       "23891  Ed Sheeran                This   \n",
       "24073  Ed Sheeran          Lego House   \n",
       "25193  Ed Sheeran             Runaway   \n",
       "26520  Ed Sheeran         Be Like You   \n",
       "26933  Ed Sheeran               Faces   \n",
       "29373  Ed Sheeran             Firefly   \n",
       "\n",
       "                                                    text  \n",
       "2142   i paid all my dues   and she wanted to know   ...  \n",
       "2149   white lips, pale face   breathing in snowflake...  \n",
       "2562   this city never sleeps   i hear the people wal...  \n",
       "3793   will you recognise me, in the flashing lights ...  \n",
       "4838   i keep my hopes and dreams inside of you among...  \n",
       "7736   you give me life like lots of oxygen   you tre...  \n",
       "9239   i met you when i was a teen but then you were ...  \n",
       "9648   settle down with me   cover me up   cuddle me ...  \n",
       "10815  i am a man with a heavy heart,   and i dare no...  \n",
       "10819  she's like cold coffee in the morning   i'm dr...  \n",
       "11665  another day another life   passes by just like...  \n",
       "14198  ah lahmlahlah   ah lahmlahlah      [verse 1:] ...  \n",
       "16708  these thoughts i have could be clear ones and ...  \n",
       "19608  [verse 1]   when your legs don't work like the...  \n",
       "20682  i found your hairband on my bedroom floor   th...  \n",
       "23424  i am a poor, wayfaring stranger   traveling th...  \n",
       "23891  this is the start of something beautiful   thi...  \n",
       "24073  i'm gonna pick up the pieces   and build a leg...  \n",
       "25193  i've known it for a long time   daddy wakes up...  \n",
       "26520  unhappy days that left us on the floor   and y...  \n",
       "26933  faces change   but this place'll stay the same...  \n",
       "29373  i fell in love next to you   burning fires in ...  "
      ]
     },
     "execution_count": 23,
     "metadata": {},
     "output_type": "execute_result"
    }
   ],
   "source": [
    "df[df['artist']=='Ed Sheeran']"
   ]
  },
  {
   "cell_type": "code",
   "execution_count": 24,
   "id": "8e0aa033-f35a-433f-b55e-a93ce1e3f223",
   "metadata": {},
   "outputs": [
    {
     "data": {
      "text/plain": [
       "['Cast The Spirit',\n",
       " 'A Young Man Is Gone',\n",
       " 'Forever You Will Be Mine',\n",
       " \"We'll Be Alright\"]"
      ]
     },
     "execution_count": 24,
     "metadata": {},
     "output_type": "execute_result"
    }
   ],
   "source": [
    "recommender('Photograph')"
   ]
  },
  {
   "cell_type": "code",
   "execution_count": 26,
   "id": "fd40dc5c-dbed-48b7-9f10-a69fc7187369",
   "metadata": {},
   "outputs": [],
   "source": [
    "import pickle"
   ]
  },
  {
   "cell_type": "code",
   "execution_count": 27,
   "id": "3c55d9cd-d1b9-49a2-942b-aa73bbea24b3",
   "metadata": {},
   "outputs": [],
   "source": [
    "pickle.dump(similarity, open('similarity','wb'))"
   ]
  },
  {
   "cell_type": "code",
   "execution_count": 28,
   "id": "1e81ecc7-67e2-4297-8f9b-6a4263a981dd",
   "metadata": {},
   "outputs": [],
   "source": [
    "pickle.dump(df, open('df','wb'))"
   ]
  },
  {
   "cell_type": "code",
   "execution_count": null,
   "id": "53dd3f40-8595-4468-a204-13e53038946a",
   "metadata": {},
   "outputs": [],
   "source": []
  }
 ],
 "metadata": {
  "kernelspec": {
   "display_name": "Python 3 (ipykernel)",
   "language": "python",
   "name": "python3"
  },
  "language_info": {
   "codemirror_mode": {
    "name": "ipython",
    "version": 3
   },
   "file_extension": ".py",
   "mimetype": "text/x-python",
   "name": "python",
   "nbconvert_exporter": "python",
   "pygments_lexer": "ipython3",
   "version": "3.11.4"
  }
 },
 "nbformat": 4,
 "nbformat_minor": 5
}
